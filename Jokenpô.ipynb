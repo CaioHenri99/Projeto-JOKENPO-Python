{
  "nbformat": 4,
  "nbformat_minor": 0,
  "metadata": {
    "colab": {
      "provenance": []
    },
    "kernelspec": {
      "name": "python3",
      "display_name": "Python 3"
    },
    "language_info": {
      "name": "python"
    }
  },
  "cells": [
    {
      "cell_type": "markdown",
      "source": [
        "Criando um programa que joga Jokenpô com o usuário"
      ],
      "metadata": {
        "id": "8dzs2S0bJvBY"
      }
    },
    {
      "cell_type": "markdown",
      "source": [
        "A biblioteca time possui um módulo chamado sleep que serve para cadenciar a apresentação ao longo da execução do código."
      ],
      "metadata": {
        "id": "ZhNuGm2rKu0n"
      }
    },
    {
      "cell_type": "code",
      "source": [
        "# Primeiro passo: Vamos chamar a bibloteca 'random' e importar o módulo 'randint'\n",
        "\n",
        "from random import randint\n",
        "\n",
        "# Segundo passo: Importar o módulo time para cadenciar o nome Jokenpô\n",
        "from time import sleep"
      ],
      "metadata": {
        "id": "q-UTKRpaJtvR"
      },
      "execution_count": null,
      "outputs": []
    },
    {
      "cell_type": "code",
      "source": [
        "# Terceiro passo: Criando as variáveis 'itens' e inserir nela a Pedra, Papel e Tesoura\n",
        "\n",
        "itens = ('Pedra', 'Papel', 'Tesoura')"
      ],
      "metadata": {
        "id": "dAOmKeU9LFJA"
      },
      "execution_count": null,
      "outputs": []
    },
    {
      "cell_type": "code",
      "source": [
        "#Quarto passo: Criando a variável 'computador' e usar o módulo randint para sortear os números de 0 a 2\n",
        "\n",
        "#Jogada do computador\n",
        "computador = randint(0, 2)"
      ],
      "metadata": {
        "id": "Ws45pFIcLN5s"
      },
      "execution_count": null,
      "outputs": []
    },
    {
      "cell_type": "code",
      "source": [
        "# Quinto passo: Vamos printar na tela as opções de forma numérica ao jogador\n",
        "\n",
        "print('''Suas opções:\n",
        "[0] PEDRA\n",
        "[1] PAPEL\n",
        "[2] TESOURA''')"
      ],
      "metadata": {
        "colab": {
          "base_uri": "https://localhost:8080/"
        },
        "id": "tSTpOF2WLjxY",
        "outputId": "7a80e5aa-297e-435c-e614-c07590ddacd6"
      },
      "execution_count": null,
      "outputs": [
        {
          "output_type": "stream",
          "name": "stdout",
          "text": [
            "Suas opções:\n",
            "[0] PEDRA\n",
            "[1] PAPEL\n",
            "[2] TESOURA\n"
          ]
        }
      ]
    },
    {
      "cell_type": "code",
      "source": [
        "# Sexto passo: Criando a variável 'jogador' e pergunta-lo através do input, qual número ele escolhe\n",
        "\n",
        "jogador = int(input(\"Qual é a sua jogada? \"))"
      ],
      "metadata": {
        "colab": {
          "base_uri": "https://localhost:8080/"
        },
        "id": "cNhfdkHAMhON",
        "outputId": "849c9ad8-b4cf-462b-aeb8-9f52d5783f7e"
      },
      "execution_count": null,
      "outputs": [
        {
          "name": "stdout",
          "output_type": "stream",
          "text": [
            "Qual é a sua jogada? 2\n"
          ]
        }
      ]
    },
    {
      "cell_type": "code",
      "source": [
        "#Sétimo passo: Usando o 'sleep' para cadenciar a apresentação do nome do jogo\n",
        "print('JO')\n",
        "sleep(1)\n",
        "print('KEN')\n",
        "sleep(1)\n",
        "print('PÔ')\n",
        "sleep(2)\n",
        "print('-=' *11)"
      ],
      "metadata": {
        "colab": {
          "base_uri": "https://localhost:8080/"
        },
        "id": "mc8SLeT4M5gE",
        "outputId": "5e94de96-8abf-4987-8ddc-5185a470648e"
      },
      "execution_count": null,
      "outputs": [
        {
          "output_type": "stream",
          "name": "stdout",
          "text": [
            "JO\n",
            "KEN\n",
            "PÔ\n",
            "-=-=-=-=-=-=-=-=-=-=-=\n"
          ]
        }
      ]
    },
    {
      "cell_type": "code",
      "source": [
        "# Oitavo passo: Mostrando o que cada um jogou\n",
        "print(f'Computador jogou: {itens[computador]}')\n",
        "print(f'Jogador jogou: {itens[jogador]}')\n",
        "print('-=' *11)"
      ],
      "metadata": {
        "colab": {
          "base_uri": "https://localhost:8080/"
        },
        "id": "tbMwww43NkOl",
        "outputId": "e0da8a0f-39c4-4952-c841-7b21c6495b89"
      },
      "execution_count": null,
      "outputs": [
        {
          "output_type": "stream",
          "name": "stdout",
          "text": [
            "Computador jogou: Tesoura\n",
            "Jogador jogou: Tesoura\n",
            "-=-=-=-=-=-=-=-=-=-=-=\n"
          ]
        }
      ]
    },
    {
      "cell_type": "markdown",
      "source": [
        "Irei utilizar como base as possíveis jogadas:\n",
        "Computador jogou pedra, se o jogador jogar pedra = empate\n",
        "/Ou, se o jogador jogar papel = jogador venceu\n",
        "/Ou, se o jogador jogar tesoura = computador venceu"
      ],
      "metadata": {
        "id": "vkrWDe9jODUs"
      }
    },
    {
      "cell_type": "code",
      "source": [
        "# Nono passo: Montando a estrutura condicional para apresentar os resultados\n",
        "\n",
        "if computador == 0: # computador jogou PEDRA\n",
        "   if jogador == 0:\n",
        "    print(\"EMPATE\")\n",
        "\n",
        "   elif jogador == 1:\n",
        "    print(\"JOGADOR VENCEU!\")\n",
        "\n",
        "   elif jogador == 2:\n",
        "    print(\"COMPUTADOR VENCEU!\")\n",
        "\n",
        "   else:\n",
        "    print('JOGADA INVÁLIDA')\n",
        "\n",
        "if computador == 1: # computador jogou PAPEL\n",
        "   if jogador == 0:\n",
        "    print('COMPUTADOR VENCEU!')\n",
        "\n",
        "   elif jogador == 1:\n",
        "    print('EMPATE!')\n",
        "\n",
        "   elif jogador == 2:\n",
        "    print('JOGADOR VENCEU!')\n",
        "\n",
        "   else:\n",
        "    print(\"JOGADA INVÁLIDA\")\n",
        "\n",
        "if computador == 2: #computador jogou TESOURA\n",
        "  if jogador == 0:\n",
        "    print('JOGADOR VENCEU!')\n",
        "\n",
        "  elif jogador == 1:\n",
        "    print('COMPUTADOR VENCEU!')\n",
        "\n",
        "  elif jogador == 2:\n",
        "    print('EMPATE!')\n",
        "\n",
        "  else:\n",
        "    print('JOGADA INVÁLIDA!')\n"
      ],
      "metadata": {
        "colab": {
          "base_uri": "https://localhost:8080/"
        },
        "id": "hJLCkWgRN_9U",
        "outputId": "e1d2b5d9-7698-441f-f775-98e7aeba2232"
      },
      "execution_count": null,
      "outputs": [
        {
          "output_type": "stream",
          "name": "stdout",
          "text": [
            "EMPATE!\n"
          ]
        }
      ]
    }
  ]
}